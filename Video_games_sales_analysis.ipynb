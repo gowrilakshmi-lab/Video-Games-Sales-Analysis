{
  "nbformat": 4,
  "nbformat_minor": 0,
  "metadata": {
    "colab": {
      "provenance": [],
      "authorship_tag": "ABX9TyNL3H2EBsKkkc+q70nCQWXR",
      "include_colab_link": true
    },
    "kernelspec": {
      "name": "python3",
      "display_name": "Python 3"
    },
    "language_info": {
      "name": "python"
    }
  },
  "cells": [
    {
      "cell_type": "markdown",
      "metadata": {
        "id": "view-in-github",
        "colab_type": "text"
      },
      "source": [
        "<a href=\"https://colab.research.google.com/github/gowrilakshmi-lab/Video-Games-Sales-Analysis/blob/main/Video_games_sales_analysis.ipynb\" target=\"_parent\"><img src=\"https://colab.research.google.com/assets/colab-badge.svg\" alt=\"Open In Colab\"/></a>"
      ]
    },
    {
      "cell_type": "code",
      "execution_count": 55,
      "metadata": {
        "id": "GJullUiHQcBm"
      },
      "outputs": [],
      "source": [
        "import pandas as pd\n",
        "import matplotlib.pyplot as plt\n",
        "import seaborn as sns\n",
        "import numpy as np"
      ]
    },
    {
      "cell_type": "code",
      "source": [
        "vgsales_df=pd.read_csv('/content/Video Games Sales.csv')"
      ],
      "metadata": {
        "id": "CXRVv8WdQ8U_"
      },
      "execution_count": 56,
      "outputs": []
    },
    {
      "cell_type": "code",
      "source": [
        "vgsales_df.head(10)"
      ],
      "metadata": {
        "colab": {
          "base_uri": "https://localhost:8080/",
          "height": 363
        },
        "id": "SDvfQXALRXr3",
        "outputId": "fd80f8c6-02aa-4c17-82b0-059f0ac5040a"
      },
      "execution_count": 24,
      "outputs": [
        {
          "output_type": "execute_result",
          "data": {
            "text/plain": [
              "   index  Rank                 Game Title Platform    Year       Genre  \\\n",
              "0      0     1                 Wii Sports      Wii  2006.0      Sports   \n",
              "1      1     2          Super Mario Bros.      NES  1985.0    Platform   \n",
              "2      2     3             Mario Kart Wii      Wii  2008.0      Racing   \n",
              "3      3     4          Wii Sports Resort      Wii  2009.0      Sports   \n",
              "4      4     5                     Tetris       GB  1989.0      Puzzle   \n",
              "5      5     6      New Super Mario Bros.       DS  2006.0    Platform   \n",
              "6      6     7                   Wii Play      Wii  2006.0        Misc   \n",
              "7      7     8                  Duck Hunt      NES  1984.0     Shooter   \n",
              "8      8     9  New Super Mario Bros. Wii      Wii  2009.0    Platform   \n",
              "9      9    10                 Nintendogs       DS  2005.0  Simulation   \n",
              "\n",
              "  Publisher  North America  Europe  Japan  Rest of World  Global  Review  \n",
              "0  Nintendo          40.43   28.39   3.77           8.54   81.12   76.28  \n",
              "1  Nintendo          29.08    3.58   6.81           0.77   40.24   91.00  \n",
              "2  Nintendo          14.50   12.22   3.63           3.21   33.55   82.07  \n",
              "3  Nintendo          14.82   10.51   3.18           3.01   31.52   82.65  \n",
              "4  Nintendo          23.20    2.26   4.22           0.58   30.26   88.00  \n",
              "5  Nintendo          10.85    8.87   6.48           2.88   29.08   90.00  \n",
              "6  Nintendo          13.83    9.11   2.93           2.84   28.71   61.64  \n",
              "7  Nintendo          26.93    0.63   0.28           0.47   28.31   84.00  \n",
              "8  Nintendo          13.35    6.48   4.66           2.25   26.75   88.18  \n",
              "9  Nintendo           9.02   10.81   1.93           2.73   24.50   85.00  "
            ],
            "text/html": [
              "\n",
              "  <div id=\"df-0135693f-99f7-465d-b19d-94e49434cafb\">\n",
              "    <div class=\"colab-df-container\">\n",
              "      <div>\n",
              "<style scoped>\n",
              "    .dataframe tbody tr th:only-of-type {\n",
              "        vertical-align: middle;\n",
              "    }\n",
              "\n",
              "    .dataframe tbody tr th {\n",
              "        vertical-align: top;\n",
              "    }\n",
              "\n",
              "    .dataframe thead th {\n",
              "        text-align: right;\n",
              "    }\n",
              "</style>\n",
              "<table border=\"1\" class=\"dataframe\">\n",
              "  <thead>\n",
              "    <tr style=\"text-align: right;\">\n",
              "      <th></th>\n",
              "      <th>index</th>\n",
              "      <th>Rank</th>\n",
              "      <th>Game Title</th>\n",
              "      <th>Platform</th>\n",
              "      <th>Year</th>\n",
              "      <th>Genre</th>\n",
              "      <th>Publisher</th>\n",
              "      <th>North America</th>\n",
              "      <th>Europe</th>\n",
              "      <th>Japan</th>\n",
              "      <th>Rest of World</th>\n",
              "      <th>Global</th>\n",
              "      <th>Review</th>\n",
              "    </tr>\n",
              "  </thead>\n",
              "  <tbody>\n",
              "    <tr>\n",
              "      <th>0</th>\n",
              "      <td>0</td>\n",
              "      <td>1</td>\n",
              "      <td>Wii Sports</td>\n",
              "      <td>Wii</td>\n",
              "      <td>2006.0</td>\n",
              "      <td>Sports</td>\n",
              "      <td>Nintendo</td>\n",
              "      <td>40.43</td>\n",
              "      <td>28.39</td>\n",
              "      <td>3.77</td>\n",
              "      <td>8.54</td>\n",
              "      <td>81.12</td>\n",
              "      <td>76.28</td>\n",
              "    </tr>\n",
              "    <tr>\n",
              "      <th>1</th>\n",
              "      <td>1</td>\n",
              "      <td>2</td>\n",
              "      <td>Super Mario Bros.</td>\n",
              "      <td>NES</td>\n",
              "      <td>1985.0</td>\n",
              "      <td>Platform</td>\n",
              "      <td>Nintendo</td>\n",
              "      <td>29.08</td>\n",
              "      <td>3.58</td>\n",
              "      <td>6.81</td>\n",
              "      <td>0.77</td>\n",
              "      <td>40.24</td>\n",
              "      <td>91.00</td>\n",
              "    </tr>\n",
              "    <tr>\n",
              "      <th>2</th>\n",
              "      <td>2</td>\n",
              "      <td>3</td>\n",
              "      <td>Mario Kart Wii</td>\n",
              "      <td>Wii</td>\n",
              "      <td>2008.0</td>\n",
              "      <td>Racing</td>\n",
              "      <td>Nintendo</td>\n",
              "      <td>14.50</td>\n",
              "      <td>12.22</td>\n",
              "      <td>3.63</td>\n",
              "      <td>3.21</td>\n",
              "      <td>33.55</td>\n",
              "      <td>82.07</td>\n",
              "    </tr>\n",
              "    <tr>\n",
              "      <th>3</th>\n",
              "      <td>3</td>\n",
              "      <td>4</td>\n",
              "      <td>Wii Sports Resort</td>\n",
              "      <td>Wii</td>\n",
              "      <td>2009.0</td>\n",
              "      <td>Sports</td>\n",
              "      <td>Nintendo</td>\n",
              "      <td>14.82</td>\n",
              "      <td>10.51</td>\n",
              "      <td>3.18</td>\n",
              "      <td>3.01</td>\n",
              "      <td>31.52</td>\n",
              "      <td>82.65</td>\n",
              "    </tr>\n",
              "    <tr>\n",
              "      <th>4</th>\n",
              "      <td>4</td>\n",
              "      <td>5</td>\n",
              "      <td>Tetris</td>\n",
              "      <td>GB</td>\n",
              "      <td>1989.0</td>\n",
              "      <td>Puzzle</td>\n",
              "      <td>Nintendo</td>\n",
              "      <td>23.20</td>\n",
              "      <td>2.26</td>\n",
              "      <td>4.22</td>\n",
              "      <td>0.58</td>\n",
              "      <td>30.26</td>\n",
              "      <td>88.00</td>\n",
              "    </tr>\n",
              "    <tr>\n",
              "      <th>5</th>\n",
              "      <td>5</td>\n",
              "      <td>6</td>\n",
              "      <td>New Super Mario Bros.</td>\n",
              "      <td>DS</td>\n",
              "      <td>2006.0</td>\n",
              "      <td>Platform</td>\n",
              "      <td>Nintendo</td>\n",
              "      <td>10.85</td>\n",
              "      <td>8.87</td>\n",
              "      <td>6.48</td>\n",
              "      <td>2.88</td>\n",
              "      <td>29.08</td>\n",
              "      <td>90.00</td>\n",
              "    </tr>\n",
              "    <tr>\n",
              "      <th>6</th>\n",
              "      <td>6</td>\n",
              "      <td>7</td>\n",
              "      <td>Wii Play</td>\n",
              "      <td>Wii</td>\n",
              "      <td>2006.0</td>\n",
              "      <td>Misc</td>\n",
              "      <td>Nintendo</td>\n",
              "      <td>13.83</td>\n",
              "      <td>9.11</td>\n",
              "      <td>2.93</td>\n",
              "      <td>2.84</td>\n",
              "      <td>28.71</td>\n",
              "      <td>61.64</td>\n",
              "    </tr>\n",
              "    <tr>\n",
              "      <th>7</th>\n",
              "      <td>7</td>\n",
              "      <td>8</td>\n",
              "      <td>Duck Hunt</td>\n",
              "      <td>NES</td>\n",
              "      <td>1984.0</td>\n",
              "      <td>Shooter</td>\n",
              "      <td>Nintendo</td>\n",
              "      <td>26.93</td>\n",
              "      <td>0.63</td>\n",
              "      <td>0.28</td>\n",
              "      <td>0.47</td>\n",
              "      <td>28.31</td>\n",
              "      <td>84.00</td>\n",
              "    </tr>\n",
              "    <tr>\n",
              "      <th>8</th>\n",
              "      <td>8</td>\n",
              "      <td>9</td>\n",
              "      <td>New Super Mario Bros. Wii</td>\n",
              "      <td>Wii</td>\n",
              "      <td>2009.0</td>\n",
              "      <td>Platform</td>\n",
              "      <td>Nintendo</td>\n",
              "      <td>13.35</td>\n",
              "      <td>6.48</td>\n",
              "      <td>4.66</td>\n",
              "      <td>2.25</td>\n",
              "      <td>26.75</td>\n",
              "      <td>88.18</td>\n",
              "    </tr>\n",
              "    <tr>\n",
              "      <th>9</th>\n",
              "      <td>9</td>\n",
              "      <td>10</td>\n",
              "      <td>Nintendogs</td>\n",
              "      <td>DS</td>\n",
              "      <td>2005.0</td>\n",
              "      <td>Simulation</td>\n",
              "      <td>Nintendo</td>\n",
              "      <td>9.02</td>\n",
              "      <td>10.81</td>\n",
              "      <td>1.93</td>\n",
              "      <td>2.73</td>\n",
              "      <td>24.50</td>\n",
              "      <td>85.00</td>\n",
              "    </tr>\n",
              "  </tbody>\n",
              "</table>\n",
              "</div>\n",
              "      <button class=\"colab-df-convert\" onclick=\"convertToInteractive('df-0135693f-99f7-465d-b19d-94e49434cafb')\"\n",
              "              title=\"Convert this dataframe to an interactive table.\"\n",
              "              style=\"display:none;\">\n",
              "        \n",
              "  <svg xmlns=\"http://www.w3.org/2000/svg\" height=\"24px\"viewBox=\"0 0 24 24\"\n",
              "       width=\"24px\">\n",
              "    <path d=\"M0 0h24v24H0V0z\" fill=\"none\"/>\n",
              "    <path d=\"M18.56 5.44l.94 2.06.94-2.06 2.06-.94-2.06-.94-.94-2.06-.94 2.06-2.06.94zm-11 1L8.5 8.5l.94-2.06 2.06-.94-2.06-.94L8.5 2.5l-.94 2.06-2.06.94zm10 10l.94 2.06.94-2.06 2.06-.94-2.06-.94-.94-2.06-.94 2.06-2.06.94z\"/><path d=\"M17.41 7.96l-1.37-1.37c-.4-.4-.92-.59-1.43-.59-.52 0-1.04.2-1.43.59L10.3 9.45l-7.72 7.72c-.78.78-.78 2.05 0 2.83L4 21.41c.39.39.9.59 1.41.59.51 0 1.02-.2 1.41-.59l7.78-7.78 2.81-2.81c.8-.78.8-2.07 0-2.86zM5.41 20L4 18.59l7.72-7.72 1.47 1.35L5.41 20z\"/>\n",
              "  </svg>\n",
              "      </button>\n",
              "      \n",
              "  <style>\n",
              "    .colab-df-container {\n",
              "      display:flex;\n",
              "      flex-wrap:wrap;\n",
              "      gap: 12px;\n",
              "    }\n",
              "\n",
              "    .colab-df-convert {\n",
              "      background-color: #E8F0FE;\n",
              "      border: none;\n",
              "      border-radius: 50%;\n",
              "      cursor: pointer;\n",
              "      display: none;\n",
              "      fill: #1967D2;\n",
              "      height: 32px;\n",
              "      padding: 0 0 0 0;\n",
              "      width: 32px;\n",
              "    }\n",
              "\n",
              "    .colab-df-convert:hover {\n",
              "      background-color: #E2EBFA;\n",
              "      box-shadow: 0px 1px 2px rgba(60, 64, 67, 0.3), 0px 1px 3px 1px rgba(60, 64, 67, 0.15);\n",
              "      fill: #174EA6;\n",
              "    }\n",
              "\n",
              "    [theme=dark] .colab-df-convert {\n",
              "      background-color: #3B4455;\n",
              "      fill: #D2E3FC;\n",
              "    }\n",
              "\n",
              "    [theme=dark] .colab-df-convert:hover {\n",
              "      background-color: #434B5C;\n",
              "      box-shadow: 0px 1px 3px 1px rgba(0, 0, 0, 0.15);\n",
              "      filter: drop-shadow(0px 1px 2px rgba(0, 0, 0, 0.3));\n",
              "      fill: #FFFFFF;\n",
              "    }\n",
              "  </style>\n",
              "\n",
              "      <script>\n",
              "        const buttonEl =\n",
              "          document.querySelector('#df-0135693f-99f7-465d-b19d-94e49434cafb button.colab-df-convert');\n",
              "        buttonEl.style.display =\n",
              "          google.colab.kernel.accessAllowed ? 'block' : 'none';\n",
              "\n",
              "        async function convertToInteractive(key) {\n",
              "          const element = document.querySelector('#df-0135693f-99f7-465d-b19d-94e49434cafb');\n",
              "          const dataTable =\n",
              "            await google.colab.kernel.invokeFunction('convertToInteractive',\n",
              "                                                     [key], {});\n",
              "          if (!dataTable) return;\n",
              "\n",
              "          const docLinkHtml = 'Like what you see? Visit the ' +\n",
              "            '<a target=\"_blank\" href=https://colab.research.google.com/notebooks/data_table.ipynb>data table notebook</a>'\n",
              "            + ' to learn more about interactive tables.';\n",
              "          element.innerHTML = '';\n",
              "          dataTable['output_type'] = 'display_data';\n",
              "          await google.colab.output.renderOutput(dataTable, element);\n",
              "          const docLink = document.createElement('div');\n",
              "          docLink.innerHTML = docLinkHtml;\n",
              "          element.appendChild(docLink);\n",
              "        }\n",
              "      </script>\n",
              "    </div>\n",
              "  </div>\n",
              "  "
            ]
          },
          "metadata": {},
          "execution_count": 24
        }
      ]
    },
    {
      "cell_type": "code",
      "source": [
        "vgsales_df.tail()"
      ],
      "metadata": {
        "colab": {
          "base_uri": "https://localhost:8080/",
          "height": 206
        },
        "id": "FHBcXDjIUrA_",
        "outputId": "8874fefa-7300-4537-f505-b3b5be5cb6d6"
      },
      "execution_count": 9,
      "outputs": [
        {
          "output_type": "execute_result",
          "data": {
            "text/plain": [
              "      index  Rank                        Game Title Platform    Year  \\\n",
              "1902   1902  1903  Lizzie McGuire 2: Lizzie Diaries      GBA  2004.0   \n",
              "1903   1903  1904              Xenoblade Chronicles      Wii  2010.0   \n",
              "1904   1904  1905                     SingStar Abba      PS3  2008.0   \n",
              "1905   1905  1906    FIFA Soccer World Championship      PS2  2000.0   \n",
              "1906   1906  1907        WWE SmackDown vs. Raw 2011     X360  2010.0   \n",
              "\n",
              "             Genre                    Publisher  North America  Europe  Japan  \\\n",
              "1902        Action   Disney Interactive Studios           0.60    0.22   0.00   \n",
              "1903  Role-Playing                     Nintendo           0.39    0.22   0.16   \n",
              "1904          Misc  Sony Computer Entertainment           0.25    0.44   0.00   \n",
              "1905        Sports              Electronic Arts           0.27    0.21   0.28   \n",
              "1906      Fighting                          THQ           0.42    0.32   0.00   \n",
              "\n",
              "      Rest of World  Global  Review  \n",
              "1902           0.01    0.83   55.00  \n",
              "1903           0.07    0.83   91.74  \n",
              "1904           0.14    0.83   73.00  \n",
              "1905           0.07    0.83   73.00  \n",
              "1906           0.09    0.83   82.00  "
            ],
            "text/html": [
              "\n",
              "  <div id=\"df-72511999-b91d-48b4-81f3-ab2ea3280d6d\">\n",
              "    <div class=\"colab-df-container\">\n",
              "      <div>\n",
              "<style scoped>\n",
              "    .dataframe tbody tr th:only-of-type {\n",
              "        vertical-align: middle;\n",
              "    }\n",
              "\n",
              "    .dataframe tbody tr th {\n",
              "        vertical-align: top;\n",
              "    }\n",
              "\n",
              "    .dataframe thead th {\n",
              "        text-align: right;\n",
              "    }\n",
              "</style>\n",
              "<table border=\"1\" class=\"dataframe\">\n",
              "  <thead>\n",
              "    <tr style=\"text-align: right;\">\n",
              "      <th></th>\n",
              "      <th>index</th>\n",
              "      <th>Rank</th>\n",
              "      <th>Game Title</th>\n",
              "      <th>Platform</th>\n",
              "      <th>Year</th>\n",
              "      <th>Genre</th>\n",
              "      <th>Publisher</th>\n",
              "      <th>North America</th>\n",
              "      <th>Europe</th>\n",
              "      <th>Japan</th>\n",
              "      <th>Rest of World</th>\n",
              "      <th>Global</th>\n",
              "      <th>Review</th>\n",
              "    </tr>\n",
              "  </thead>\n",
              "  <tbody>\n",
              "    <tr>\n",
              "      <th>1902</th>\n",
              "      <td>1902</td>\n",
              "      <td>1903</td>\n",
              "      <td>Lizzie McGuire 2: Lizzie Diaries</td>\n",
              "      <td>GBA</td>\n",
              "      <td>2004.0</td>\n",
              "      <td>Action</td>\n",
              "      <td>Disney Interactive Studios</td>\n",
              "      <td>0.60</td>\n",
              "      <td>0.22</td>\n",
              "      <td>0.00</td>\n",
              "      <td>0.01</td>\n",
              "      <td>0.83</td>\n",
              "      <td>55.00</td>\n",
              "    </tr>\n",
              "    <tr>\n",
              "      <th>1903</th>\n",
              "      <td>1903</td>\n",
              "      <td>1904</td>\n",
              "      <td>Xenoblade Chronicles</td>\n",
              "      <td>Wii</td>\n",
              "      <td>2010.0</td>\n",
              "      <td>Role-Playing</td>\n",
              "      <td>Nintendo</td>\n",
              "      <td>0.39</td>\n",
              "      <td>0.22</td>\n",
              "      <td>0.16</td>\n",
              "      <td>0.07</td>\n",
              "      <td>0.83</td>\n",
              "      <td>91.74</td>\n",
              "    </tr>\n",
              "    <tr>\n",
              "      <th>1904</th>\n",
              "      <td>1904</td>\n",
              "      <td>1905</td>\n",
              "      <td>SingStar Abba</td>\n",
              "      <td>PS3</td>\n",
              "      <td>2008.0</td>\n",
              "      <td>Misc</td>\n",
              "      <td>Sony Computer Entertainment</td>\n",
              "      <td>0.25</td>\n",
              "      <td>0.44</td>\n",
              "      <td>0.00</td>\n",
              "      <td>0.14</td>\n",
              "      <td>0.83</td>\n",
              "      <td>73.00</td>\n",
              "    </tr>\n",
              "    <tr>\n",
              "      <th>1905</th>\n",
              "      <td>1905</td>\n",
              "      <td>1906</td>\n",
              "      <td>FIFA Soccer World Championship</td>\n",
              "      <td>PS2</td>\n",
              "      <td>2000.0</td>\n",
              "      <td>Sports</td>\n",
              "      <td>Electronic Arts</td>\n",
              "      <td>0.27</td>\n",
              "      <td>0.21</td>\n",
              "      <td>0.28</td>\n",
              "      <td>0.07</td>\n",
              "      <td>0.83</td>\n",
              "      <td>73.00</td>\n",
              "    </tr>\n",
              "    <tr>\n",
              "      <th>1906</th>\n",
              "      <td>1906</td>\n",
              "      <td>1907</td>\n",
              "      <td>WWE SmackDown vs. Raw 2011</td>\n",
              "      <td>X360</td>\n",
              "      <td>2010.0</td>\n",
              "      <td>Fighting</td>\n",
              "      <td>THQ</td>\n",
              "      <td>0.42</td>\n",
              "      <td>0.32</td>\n",
              "      <td>0.00</td>\n",
              "      <td>0.09</td>\n",
              "      <td>0.83</td>\n",
              "      <td>82.00</td>\n",
              "    </tr>\n",
              "  </tbody>\n",
              "</table>\n",
              "</div>\n",
              "      <button class=\"colab-df-convert\" onclick=\"convertToInteractive('df-72511999-b91d-48b4-81f3-ab2ea3280d6d')\"\n",
              "              title=\"Convert this dataframe to an interactive table.\"\n",
              "              style=\"display:none;\">\n",
              "        \n",
              "  <svg xmlns=\"http://www.w3.org/2000/svg\" height=\"24px\"viewBox=\"0 0 24 24\"\n",
              "       width=\"24px\">\n",
              "    <path d=\"M0 0h24v24H0V0z\" fill=\"none\"/>\n",
              "    <path d=\"M18.56 5.44l.94 2.06.94-2.06 2.06-.94-2.06-.94-.94-2.06-.94 2.06-2.06.94zm-11 1L8.5 8.5l.94-2.06 2.06-.94-2.06-.94L8.5 2.5l-.94 2.06-2.06.94zm10 10l.94 2.06.94-2.06 2.06-.94-2.06-.94-.94-2.06-.94 2.06-2.06.94z\"/><path d=\"M17.41 7.96l-1.37-1.37c-.4-.4-.92-.59-1.43-.59-.52 0-1.04.2-1.43.59L10.3 9.45l-7.72 7.72c-.78.78-.78 2.05 0 2.83L4 21.41c.39.39.9.59 1.41.59.51 0 1.02-.2 1.41-.59l7.78-7.78 2.81-2.81c.8-.78.8-2.07 0-2.86zM5.41 20L4 18.59l7.72-7.72 1.47 1.35L5.41 20z\"/>\n",
              "  </svg>\n",
              "      </button>\n",
              "      \n",
              "  <style>\n",
              "    .colab-df-container {\n",
              "      display:flex;\n",
              "      flex-wrap:wrap;\n",
              "      gap: 12px;\n",
              "    }\n",
              "\n",
              "    .colab-df-convert {\n",
              "      background-color: #E8F0FE;\n",
              "      border: none;\n",
              "      border-radius: 50%;\n",
              "      cursor: pointer;\n",
              "      display: none;\n",
              "      fill: #1967D2;\n",
              "      height: 32px;\n",
              "      padding: 0 0 0 0;\n",
              "      width: 32px;\n",
              "    }\n",
              "\n",
              "    .colab-df-convert:hover {\n",
              "      background-color: #E2EBFA;\n",
              "      box-shadow: 0px 1px 2px rgba(60, 64, 67, 0.3), 0px 1px 3px 1px rgba(60, 64, 67, 0.15);\n",
              "      fill: #174EA6;\n",
              "    }\n",
              "\n",
              "    [theme=dark] .colab-df-convert {\n",
              "      background-color: #3B4455;\n",
              "      fill: #D2E3FC;\n",
              "    }\n",
              "\n",
              "    [theme=dark] .colab-df-convert:hover {\n",
              "      background-color: #434B5C;\n",
              "      box-shadow: 0px 1px 3px 1px rgba(0, 0, 0, 0.15);\n",
              "      filter: drop-shadow(0px 1px 2px rgba(0, 0, 0, 0.3));\n",
              "      fill: #FFFFFF;\n",
              "    }\n",
              "  </style>\n",
              "\n",
              "      <script>\n",
              "        const buttonEl =\n",
              "          document.querySelector('#df-72511999-b91d-48b4-81f3-ab2ea3280d6d button.colab-df-convert');\n",
              "        buttonEl.style.display =\n",
              "          google.colab.kernel.accessAllowed ? 'block' : 'none';\n",
              "\n",
              "        async function convertToInteractive(key) {\n",
              "          const element = document.querySelector('#df-72511999-b91d-48b4-81f3-ab2ea3280d6d');\n",
              "          const dataTable =\n",
              "            await google.colab.kernel.invokeFunction('convertToInteractive',\n",
              "                                                     [key], {});\n",
              "          if (!dataTable) return;\n",
              "\n",
              "          const docLinkHtml = 'Like what you see? Visit the ' +\n",
              "            '<a target=\"_blank\" href=https://colab.research.google.com/notebooks/data_table.ipynb>data table notebook</a>'\n",
              "            + ' to learn more about interactive tables.';\n",
              "          element.innerHTML = '';\n",
              "          dataTable['output_type'] = 'display_data';\n",
              "          await google.colab.output.renderOutput(dataTable, element);\n",
              "          const docLink = document.createElement('div');\n",
              "          docLink.innerHTML = docLinkHtml;\n",
              "          element.appendChild(docLink);\n",
              "        }\n",
              "      </script>\n",
              "    </div>\n",
              "  </div>\n",
              "  "
            ]
          },
          "metadata": {},
          "execution_count": 9
        }
      ]
    },
    {
      "cell_type": "code",
      "source": [
        "vgsales_df.describe()"
      ],
      "metadata": {
        "colab": {
          "base_uri": "https://localhost:8080/",
          "height": 300
        },
        "id": "H2ljC36jRoEx",
        "outputId": "1d528756-ab9f-40a3-b685-4d6e0fafadae"
      },
      "execution_count": 5,
      "outputs": [
        {
          "output_type": "execute_result",
          "data": {
            "text/plain": [
              "           index       Rank         Year  North America       Europe  \\\n",
              "count  1907.0000  1907.0000  1878.000000    1907.000000  1907.000000   \n",
              "mean    953.0000   954.0000  2003.766773       1.258789     0.706675   \n",
              "std     550.6478   550.6478     5.895369       1.956560     1.148904   \n",
              "min       0.0000     1.0000  1983.000000       0.000000     0.000000   \n",
              "25%     476.5000   477.5000  2000.000000       0.510000     0.230000   \n",
              "50%     953.0000   954.0000  2005.000000       0.810000     0.440000   \n",
              "75%    1429.5000  1430.5000  2008.000000       1.375000     0.810000   \n",
              "max    1906.0000  1907.0000  2012.000000      40.430000    28.390000   \n",
              "\n",
              "             Japan  Rest of World       Global       Review  \n",
              "count  1907.000000    1907.000000  1907.000000  1907.000000  \n",
              "mean      0.317493       0.206471     2.489240    79.038977  \n",
              "std       0.724945       0.343093     3.563159    10.616899  \n",
              "min       0.000000       0.000000     0.830000    30.500000  \n",
              "25%       0.000000       0.060000     1.110000    74.000000  \n",
              "50%       0.020000       0.130000     1.530000    81.000000  \n",
              "75%       0.300000       0.220000     2.540000    86.230000  \n",
              "max       7.200000       8.540000    81.120000    97.000000  "
            ],
            "text/html": [
              "\n",
              "  <div id=\"df-3a71b312-fe3f-4eb5-b22c-fa8581061365\">\n",
              "    <div class=\"colab-df-container\">\n",
              "      <div>\n",
              "<style scoped>\n",
              "    .dataframe tbody tr th:only-of-type {\n",
              "        vertical-align: middle;\n",
              "    }\n",
              "\n",
              "    .dataframe tbody tr th {\n",
              "        vertical-align: top;\n",
              "    }\n",
              "\n",
              "    .dataframe thead th {\n",
              "        text-align: right;\n",
              "    }\n",
              "</style>\n",
              "<table border=\"1\" class=\"dataframe\">\n",
              "  <thead>\n",
              "    <tr style=\"text-align: right;\">\n",
              "      <th></th>\n",
              "      <th>index</th>\n",
              "      <th>Rank</th>\n",
              "      <th>Year</th>\n",
              "      <th>North America</th>\n",
              "      <th>Europe</th>\n",
              "      <th>Japan</th>\n",
              "      <th>Rest of World</th>\n",
              "      <th>Global</th>\n",
              "      <th>Review</th>\n",
              "    </tr>\n",
              "  </thead>\n",
              "  <tbody>\n",
              "    <tr>\n",
              "      <th>count</th>\n",
              "      <td>1907.0000</td>\n",
              "      <td>1907.0000</td>\n",
              "      <td>1878.000000</td>\n",
              "      <td>1907.000000</td>\n",
              "      <td>1907.000000</td>\n",
              "      <td>1907.000000</td>\n",
              "      <td>1907.000000</td>\n",
              "      <td>1907.000000</td>\n",
              "      <td>1907.000000</td>\n",
              "    </tr>\n",
              "    <tr>\n",
              "      <th>mean</th>\n",
              "      <td>953.0000</td>\n",
              "      <td>954.0000</td>\n",
              "      <td>2003.766773</td>\n",
              "      <td>1.258789</td>\n",
              "      <td>0.706675</td>\n",
              "      <td>0.317493</td>\n",
              "      <td>0.206471</td>\n",
              "      <td>2.489240</td>\n",
              "      <td>79.038977</td>\n",
              "    </tr>\n",
              "    <tr>\n",
              "      <th>std</th>\n",
              "      <td>550.6478</td>\n",
              "      <td>550.6478</td>\n",
              "      <td>5.895369</td>\n",
              "      <td>1.956560</td>\n",
              "      <td>1.148904</td>\n",
              "      <td>0.724945</td>\n",
              "      <td>0.343093</td>\n",
              "      <td>3.563159</td>\n",
              "      <td>10.616899</td>\n",
              "    </tr>\n",
              "    <tr>\n",
              "      <th>min</th>\n",
              "      <td>0.0000</td>\n",
              "      <td>1.0000</td>\n",
              "      <td>1983.000000</td>\n",
              "      <td>0.000000</td>\n",
              "      <td>0.000000</td>\n",
              "      <td>0.000000</td>\n",
              "      <td>0.000000</td>\n",
              "      <td>0.830000</td>\n",
              "      <td>30.500000</td>\n",
              "    </tr>\n",
              "    <tr>\n",
              "      <th>25%</th>\n",
              "      <td>476.5000</td>\n",
              "      <td>477.5000</td>\n",
              "      <td>2000.000000</td>\n",
              "      <td>0.510000</td>\n",
              "      <td>0.230000</td>\n",
              "      <td>0.000000</td>\n",
              "      <td>0.060000</td>\n",
              "      <td>1.110000</td>\n",
              "      <td>74.000000</td>\n",
              "    </tr>\n",
              "    <tr>\n",
              "      <th>50%</th>\n",
              "      <td>953.0000</td>\n",
              "      <td>954.0000</td>\n",
              "      <td>2005.000000</td>\n",
              "      <td>0.810000</td>\n",
              "      <td>0.440000</td>\n",
              "      <td>0.020000</td>\n",
              "      <td>0.130000</td>\n",
              "      <td>1.530000</td>\n",
              "      <td>81.000000</td>\n",
              "    </tr>\n",
              "    <tr>\n",
              "      <th>75%</th>\n",
              "      <td>1429.5000</td>\n",
              "      <td>1430.5000</td>\n",
              "      <td>2008.000000</td>\n",
              "      <td>1.375000</td>\n",
              "      <td>0.810000</td>\n",
              "      <td>0.300000</td>\n",
              "      <td>0.220000</td>\n",
              "      <td>2.540000</td>\n",
              "      <td>86.230000</td>\n",
              "    </tr>\n",
              "    <tr>\n",
              "      <th>max</th>\n",
              "      <td>1906.0000</td>\n",
              "      <td>1907.0000</td>\n",
              "      <td>2012.000000</td>\n",
              "      <td>40.430000</td>\n",
              "      <td>28.390000</td>\n",
              "      <td>7.200000</td>\n",
              "      <td>8.540000</td>\n",
              "      <td>81.120000</td>\n",
              "      <td>97.000000</td>\n",
              "    </tr>\n",
              "  </tbody>\n",
              "</table>\n",
              "</div>\n",
              "      <button class=\"colab-df-convert\" onclick=\"convertToInteractive('df-3a71b312-fe3f-4eb5-b22c-fa8581061365')\"\n",
              "              title=\"Convert this dataframe to an interactive table.\"\n",
              "              style=\"display:none;\">\n",
              "        \n",
              "  <svg xmlns=\"http://www.w3.org/2000/svg\" height=\"24px\"viewBox=\"0 0 24 24\"\n",
              "       width=\"24px\">\n",
              "    <path d=\"M0 0h24v24H0V0z\" fill=\"none\"/>\n",
              "    <path d=\"M18.56 5.44l.94 2.06.94-2.06 2.06-.94-2.06-.94-.94-2.06-.94 2.06-2.06.94zm-11 1L8.5 8.5l.94-2.06 2.06-.94-2.06-.94L8.5 2.5l-.94 2.06-2.06.94zm10 10l.94 2.06.94-2.06 2.06-.94-2.06-.94-.94-2.06-.94 2.06-2.06.94z\"/><path d=\"M17.41 7.96l-1.37-1.37c-.4-.4-.92-.59-1.43-.59-.52 0-1.04.2-1.43.59L10.3 9.45l-7.72 7.72c-.78.78-.78 2.05 0 2.83L4 21.41c.39.39.9.59 1.41.59.51 0 1.02-.2 1.41-.59l7.78-7.78 2.81-2.81c.8-.78.8-2.07 0-2.86zM5.41 20L4 18.59l7.72-7.72 1.47 1.35L5.41 20z\"/>\n",
              "  </svg>\n",
              "      </button>\n",
              "      \n",
              "  <style>\n",
              "    .colab-df-container {\n",
              "      display:flex;\n",
              "      flex-wrap:wrap;\n",
              "      gap: 12px;\n",
              "    }\n",
              "\n",
              "    .colab-df-convert {\n",
              "      background-color: #E8F0FE;\n",
              "      border: none;\n",
              "      border-radius: 50%;\n",
              "      cursor: pointer;\n",
              "      display: none;\n",
              "      fill: #1967D2;\n",
              "      height: 32px;\n",
              "      padding: 0 0 0 0;\n",
              "      width: 32px;\n",
              "    }\n",
              "\n",
              "    .colab-df-convert:hover {\n",
              "      background-color: #E2EBFA;\n",
              "      box-shadow: 0px 1px 2px rgba(60, 64, 67, 0.3), 0px 1px 3px 1px rgba(60, 64, 67, 0.15);\n",
              "      fill: #174EA6;\n",
              "    }\n",
              "\n",
              "    [theme=dark] .colab-df-convert {\n",
              "      background-color: #3B4455;\n",
              "      fill: #D2E3FC;\n",
              "    }\n",
              "\n",
              "    [theme=dark] .colab-df-convert:hover {\n",
              "      background-color: #434B5C;\n",
              "      box-shadow: 0px 1px 3px 1px rgba(0, 0, 0, 0.15);\n",
              "      filter: drop-shadow(0px 1px 2px rgba(0, 0, 0, 0.3));\n",
              "      fill: #FFFFFF;\n",
              "    }\n",
              "  </style>\n",
              "\n",
              "      <script>\n",
              "        const buttonEl =\n",
              "          document.querySelector('#df-3a71b312-fe3f-4eb5-b22c-fa8581061365 button.colab-df-convert');\n",
              "        buttonEl.style.display =\n",
              "          google.colab.kernel.accessAllowed ? 'block' : 'none';\n",
              "\n",
              "        async function convertToInteractive(key) {\n",
              "          const element = document.querySelector('#df-3a71b312-fe3f-4eb5-b22c-fa8581061365');\n",
              "          const dataTable =\n",
              "            await google.colab.kernel.invokeFunction('convertToInteractive',\n",
              "                                                     [key], {});\n",
              "          if (!dataTable) return;\n",
              "\n",
              "          const docLinkHtml = 'Like what you see? Visit the ' +\n",
              "            '<a target=\"_blank\" href=https://colab.research.google.com/notebooks/data_table.ipynb>data table notebook</a>'\n",
              "            + ' to learn more about interactive tables.';\n",
              "          element.innerHTML = '';\n",
              "          dataTable['output_type'] = 'display_data';\n",
              "          await google.colab.output.renderOutput(dataTable, element);\n",
              "          const docLink = document.createElement('div');\n",
              "          docLink.innerHTML = docLinkHtml;\n",
              "          element.appendChild(docLink);\n",
              "        }\n",
              "      </script>\n",
              "    </div>\n",
              "  </div>\n",
              "  "
            ]
          },
          "metadata": {},
          "execution_count": 5
        }
      ]
    },
    {
      "cell_type": "code",
      "source": [
        "vgsales_df.shape"
      ],
      "metadata": {
        "colab": {
          "base_uri": "https://localhost:8080/"
        },
        "id": "jY-pehAsTyQm",
        "outputId": "e0d4aee8-fea7-4ad6-e3ad-1427b72fa891"
      },
      "execution_count": 6,
      "outputs": [
        {
          "output_type": "execute_result",
          "data": {
            "text/plain": [
              "(1907, 13)"
            ]
          },
          "metadata": {},
          "execution_count": 6
        }
      ]
    },
    {
      "cell_type": "code",
      "source": [
        "vgsales_df.index"
      ],
      "metadata": {
        "colab": {
          "base_uri": "https://localhost:8080/"
        },
        "id": "qKiaDb7yUEkk",
        "outputId": "05a3e23e-b7ee-46cd-9635-fef7ade33fa6"
      },
      "execution_count": 7,
      "outputs": [
        {
          "output_type": "execute_result",
          "data": {
            "text/plain": [
              "RangeIndex(start=0, stop=1907, step=1)"
            ]
          },
          "metadata": {},
          "execution_count": 7
        }
      ]
    },
    {
      "cell_type": "code",
      "source": [
        "vgsales_df.columns"
      ],
      "metadata": {
        "colab": {
          "base_uri": "https://localhost:8080/"
        },
        "id": "eNxk322FVEpO",
        "outputId": "1834f6d9-4aac-45c4-dbb4-6a6eb9346565"
      },
      "execution_count": 10,
      "outputs": [
        {
          "output_type": "execute_result",
          "data": {
            "text/plain": [
              "Index(['index', 'Rank', 'Game Title', 'Platform', 'Year', 'Genre', 'Publisher',\n",
              "       'North America', 'Europe', 'Japan', 'Rest of World', 'Global',\n",
              "       'Review'],\n",
              "      dtype='object')"
            ]
          },
          "metadata": {},
          "execution_count": 10
        }
      ]
    },
    {
      "cell_type": "code",
      "source": [
        "vgsales_df.dtypes"
      ],
      "metadata": {
        "colab": {
          "base_uri": "https://localhost:8080/"
        },
        "id": "FjXBrIbsVWcz",
        "outputId": "63ec4dfb-43d5-4a07-dbbc-e312fec2e9df"
      },
      "execution_count": 11,
      "outputs": [
        {
          "output_type": "execute_result",
          "data": {
            "text/plain": [
              "index              int64\n",
              "Rank               int64\n",
              "Game Title        object\n",
              "Platform          object\n",
              "Year             float64\n",
              "Genre             object\n",
              "Publisher         object\n",
              "North America    float64\n",
              "Europe           float64\n",
              "Japan            float64\n",
              "Rest of World    float64\n",
              "Global           float64\n",
              "Review           float64\n",
              "dtype: object"
            ]
          },
          "metadata": {},
          "execution_count": 11
        }
      ]
    },
    {
      "cell_type": "code",
      "source": [
        "vgsales_df.isnull().sum()"
      ],
      "metadata": {
        "colab": {
          "base_uri": "https://localhost:8080/"
        },
        "id": "05T9bee_VlB6",
        "outputId": "9fa73efc-a963-40a4-919d-0134580ecf7c"
      },
      "execution_count": 57,
      "outputs": [
        {
          "output_type": "execute_result",
          "data": {
            "text/plain": [
              "index             0\n",
              "Rank              0\n",
              "Game Title        0\n",
              "Platform          0\n",
              "Year             29\n",
              "Genre             0\n",
              "Publisher         2\n",
              "North America     0\n",
              "Europe            0\n",
              "Japan             0\n",
              "Rest of World     0\n",
              "Global            0\n",
              "Review            0\n",
              "dtype: int64"
            ]
          },
          "metadata": {},
          "execution_count": 57
        }
      ]
    },
    {
      "cell_type": "markdown",
      "source": [
        "**Rank** - Ranking of overall sales, integer\n",
        "\n",
        "**Game Title** - The games name, object\n",
        "\n",
        "**Platform** - Platform of the games release (i.e. PC,PS4, etc.), object\n",
        "\n",
        "**Year** - Year of the game's release, float\n",
        "\n",
        "**Genre** - Genre of the game ,object\n",
        "\n",
        "**Publisher** - Publisher of the game\n",
        "\n",
        "**North America** - Sales in North America (in millions)\n",
        "\n",
        "**Europe** - Sales in Europe (in millions)\n",
        "\n",
        "**Japan** - Sales in Japan (in millions)\n",
        "\n",
        "**Rest of World** - Sales in the rest of the world (in millions)\n",
        "\n",
        "**Global**- Total worldwide sales.\n",
        "\n",
        "**Review**- Review rate of games"
      ],
      "metadata": {
        "id": "pE_QZsuzvm4w"
      }
    },
    {
      "cell_type": "code",
      "source": [
        "vgsales_df.Year.fillna(0, inplace=True)\n",
        "vgsales_df.Publisher.fillna('unavailable', inplace=True)"
      ],
      "metadata": {
        "id": "u8--gul-dOd4"
      },
      "execution_count": 18,
      "outputs": []
    },
    {
      "cell_type": "code",
      "source": [
        "vgsales_df = vgsales_df.astype({\"Year\":'int'}) "
      ],
      "metadata": {
        "id": "H2AF07bm5AEy"
      },
      "execution_count": 47,
      "outputs": []
    },
    {
      "cell_type": "markdown",
      "source": [
        "**GLOBAL HIT GAMES**"
      ],
      "metadata": {
        "id": "z3RLqqETfOGj"
      }
    },
    {
      "cell_type": "code",
      "source": [
        "consoles = ['NES', 'SNES', 'N64', 'GC', 'Wii', 'WiiU', 'NS', 'GB', 'GBA', 'GBC', 'GG', 'DS', '3DS', 'PS', 'PS2',\n",
        "            'PS3', 'PS4', 'PSP', 'PSV', 'XB', 'X360', 'XOne', 'GEN', 'DC']\n",
        "colnames = vgsales_df.columns\n",
        "\n",
        "def top_ten(DF, platforms):\n",
        "    \"This gets the top ten games in sales by region for each platform in a list and makes a new df\"\n",
        "    top_sellers = pd.DataFrame(columns=colnames)\n",
        "    for item in platforms:\n",
        "        X = DF[DF['Platform'].isin([item])]\n",
        "        XNA = X.sort_values(by='North America', ascending=False).head(10)\n",
        "        XEP = X.sort_values(by='Europe', ascending=False).head(10)\n",
        "        XJP = X.sort_values(by='Japan', ascending=False).head(10)\n",
        "        XROW = X.sort_values(by='Rest of World', ascending=False).head(10)\n",
        "\n",
        "        Y = pd.concat([XNA, XEP])\n",
        "        Z = pd.concat([XJP, XROW])\n",
        "        combined = pd.concat([Y, Z])\n",
        "\n",
        "        top_sellers = pd.concat([top_sellers, combined])\n",
        "\n",
        "    return top_sellers\n",
        "\n",
        "\n",
        "top_games = top_ten(vgsales_df, consoles)\n",
        "\n",
        "# Top games globally\n",
        "top_sellers = vgsales_df.groupby(by='Game Title').sum()\n",
        "top_sellers = top_sellers.sort_values(by='Global', ascending=False).head(10)\n",
        "top_sellers = top_sellers.reset_index(inplace=False)\n",
        "#top_sellers = top_sellers.reset_index(inplace=True)\n",
        "sns.catplot(x='Global', y='Game Title', kind='bar', data=top_sellers)\n",
        "plt.title('Top games')\n",
        "plt.show()"
      ],
      "metadata": {
        "colab": {
          "base_uri": "https://localhost:8080/",
          "height": 385
        },
        "id": "LBkPg_F5iEdb",
        "outputId": "22f1938b-030f-4378-a00c-713b7dad77eb"
      },
      "execution_count": 34,
      "outputs": [
        {
          "output_type": "display_data",
          "data": {
            "text/plain": [
              "<Figure size 360x360 with 1 Axes>"
            ],
            "image/png": "[encoded data removed]"
          },
          "metadata": {
            "needs_background": "light"
          }
        }
      ]
    },
    {
      "cell_type": "markdown",
      "source": [
        "**Number of sales per year**"
      ],
      "metadata": {
        "id": "qj5uNRTu0GZ7"
      }
    },
    {
      "cell_type": "code",
      "source": [
        "# number of games released each year\n",
        "fig = plt.figure(figsize=(20, 10))\n",
        "sns.set(style='whitegrid', font_scale=1.2)\n",
        "gpy = sns.countplot(y=vgsales_df.Year, data=vgsales_df, color='blue').set_title('Global Video Games Per Year')\n",
        "plt.xlabel('Games')\n",
        "plt.ylabel('Year')\n",
        "plt.show()"
      ],
      "metadata": {
        "colab": {
          "base_uri": "https://localhost:8080/",
          "height": 632
        },
        "id": "X8Lgew3lwp4Y",
        "outputId": "ab14e51c-9398-413a-f9b6-f4dc41d1be59"
      },
      "execution_count": 48,
      "outputs": [
        {
          "output_type": "display_data",
          "data": {
            "text/plain": [
              "<Figure size 1440x720 with 1 Axes>"
            ],
            "image/png": "[encoded data removed]"
          },
          "metadata": {}
        }
      ]
    },
    {
      "cell_type": "markdown",
      "source": [
        "** Sales by genre**"
      ],
      "metadata": {
        "id": "cee8fOY7PB1H"
      }
    },
    {
      "cell_type": "code",
      "source": [
        "by_genre = vgsales_df.groupby(by='Genre').sum()\n",
        "by_genre.reset_index(inplace=True)\n",
        "by_genre = by_genre.sort_values(['Global']).reset_index(drop=True)\n",
        "order = by_genre.Genre\n",
        "order = order[2:] # remove 2 0 categories\n",
        "\n",
        "sns.catplot(y='Genre', x='Global', data=by_genre, kind='bar', order=order, palette=('Purples'))\n",
        "plt.xlabel('Global Sales in Thousands ($)')\n",
        "plt.title('Global Sales by Genre')\n",
        "plt.show()"
      ],
      "metadata": {
        "colab": {
          "base_uri": "https://localhost:8080/",
          "height": 377
        },
        "id": "h_3LxQ6L5cj8",
        "outputId": "ebe3a81a-3b36-4b0f-e20c-c67b46d92560"
      },
      "execution_count": 53,
      "outputs": [
        {
          "output_type": "display_data",
          "data": {
            "text/plain": [
              "<Figure size 360x360 with 1 Axes>"
            ],
            "image/png": "[encoded data removed]"
          },
          "metadata": {}
        }
      ]
    },
    {
      "cell_type": "markdown",
      "source": [
        "**Number of games across platform**"
      ],
      "metadata": {
        "id": "DtKx70rcPRzF"
      }
    },
    {
      "cell_type": "code",
      "source": [
        "platform=pd.DataFrame(vgsales_df.Platform.value_counts())\n",
        "platform.reset_index(inplace=True)\n",
        "platform.rename(columns={'Platform': 'Number of Games', 'index': 'Platform'},inplace=True)\n",
        "platform.drop(platform.index[20:],inplace=True)\n",
        "platform.sort_values('Number of Games',inplace=True)\n",
        "plt.figure(figsize=(6,8))\n",
        "plt.barh(platform.Platform,platform['Number of Games'],height=0.5)\n",
        "plt.title('Number of Games Across Platform',fontsize=16)\n",
        "plt.show()"
      ],
      "metadata": {
        "colab": {
          "base_uri": "https://localhost:8080/",
          "height": 506
        },
        "id": "aup79YJGL_Fx",
        "outputId": "5f6cfed9-cef4-40b1-a7bb-266d61d0621a"
      },
      "execution_count": 54,
      "outputs": [
        {
          "output_type": "display_data",
          "data": {
            "text/plain": [
              "<Figure size 432x576 with 1 Axes>"
            ],
            "image/png": "[encoded data removed]"
          },
          "metadata": {}
        }
      ]
    }
  ]
}